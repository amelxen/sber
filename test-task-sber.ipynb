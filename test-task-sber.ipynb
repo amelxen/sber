{
 "cells": [
  {
   "cell_type": "code",
   "execution_count": null,
   "metadata": {},
   "outputs": [],
   "source": [
    "# загрузка библиотек\n",
    "import pandas as pd\n",
    "import requests as rq\n",
    "import xml.etree.ElementTree as ET\n",
    "from datetime import datetime\n",
    "from bs4 import BeautifulSoup"
   ]
  },
  {
   "cell_type": "markdown",
   "metadata": {},
   "source": [
    "### Задание 1"
   ]
  },
  {
   "cell_type": "code",
   "execution_count": null,
   "metadata": {},
   "outputs": [],
   "source": [
    "# импорт, чистка данных\n",
    "raw = pd.read_excel('test_input.xlsx', dtype=str)\n",
    "# почему-то из экселя IE Code экспортируется без нуля в начале, даже если форсить формат строки\n",
    "# не понимаю суть проблемы(\n",
    "filename = raw.iloc[1].to_list()[1]\n",
    "headers = raw.iloc[3].to_list()\n",
    "df = raw.iloc[4:].reset_index(drop=True)\n",
    "df.columns = headers\n",
    "df['Issuance Date'] = list(map(lambda x: x[0:10],df['Issuance Date']))\n",
    "df['SB Date'] = list(map(lambda x: x[0:10],df['SB Date']))\n",
    "df['Client'] = list(map(lambda x: '\"'+x+'\"',df['Client']))\n",
    "df['IE Code'] = list(map(lambda x: '0'*(10-len(x))+x if len(x)<10 else x ,df['IE Code']))\n",
    "# приходится вручную добавлять нолики эхх"
   ]
  },
  {
   "cell_type": "code",
   "execution_count": null,
   "metadata": {},
   "outputs": [],
   "source": [
    "# создание XML дерева\n",
    "root = ET.Element('CERTDATA')\n",
    "name = ET.SubElement(root, 'FILENAME')\n",
    "name.text = filename\n",
    "envelope = ET.SubElement(root, 'ENVELOPE')"
   ]
  },
  {
   "cell_type": "code",
   "execution_count": null,
   "metadata": {},
   "outputs": [],
   "source": [
    "# внутренности конверта\n",
    "tags = ['CERTNO','CERTDATE','STATUS','IEC','EXPNAME','BILLID','SDATE','SCC','SVALUE']\n",
    "for i in range(0,len(df)):\n",
    "    elem = df.iloc[i].to_list()\n",
    "    ecert = ET.SubElement(envelope, 'ECERT')\n",
    "    for j in range(0,len(elem)):\n",
    "        item = ET.SubElement(ecert, tags[j])\n",
    "        item.text = elem[j]"
   ]
  },
  {
   "cell_type": "code",
   "execution_count": null,
   "metadata": {},
   "outputs": [],
   "source": [
    "# создание XML файла\n",
    "tree = ET.ElementTree(root)\n",
    "tree.write(\"output_xml.xml\")"
   ]
  },
  {
   "cell_type": "markdown",
   "metadata": {},
   "source": [
    "### Задание 2"
   ]
  },
  {
   "cell_type": "code",
   "execution_count": null,
   "metadata": {},
   "outputs": [],
   "source": [
    "# парсим курс доллара\n",
    "df2 = df.copy()\n",
    "dates = list(map(lambda x: datetime.strptime(x,'%Y-%m-%d').strftime('%d.%m.%Y') ,df2['SB Date']))\n",
    "USD = []\n",
    "for i in dates:\n",
    "    req = BeautifulSoup(rq.get('https://www.cbr.ru/currency_base/daily/?UniDbQuery.Posted=True&UniDbQuery.To='+i).text, 'html.parser')\n",
    "    rates = list(map(lambda x: x.contents[0],req.findAll('td')))\n",
    "    USD.append(rates[rates.index('Доллар США')+1].replace(',','.'))"
   ]
  },
  {
   "cell_type": "code",
   "execution_count": null,
   "metadata": {},
   "outputs": [],
   "source": [
    "# добавляем цену в долларах\n",
    "USDamount = []\n",
    "for i in range(0,len(USD)):\n",
    "    USDamount.append(str(round(float(df2['SB Amount'][i])/float(USD[i]),2)))\n",
    "USDamount\n",
    "df2['SB Amount USD'] = USDamount"
   ]
  },
  {
   "cell_type": "code",
   "execution_count": null,
   "metadata": {},
   "outputs": [],
   "source": [
    "# создание XML дерева\n",
    "root2 = ET.Element('CERTDATA')\n",
    "name2 = ET.SubElement(root2, 'FILENAME')\n",
    "name2.text = filename\n",
    "envelope2 = ET.SubElement(root2, 'ENVELOPE')"
   ]
  },
  {
   "cell_type": "code",
   "execution_count": null,
   "metadata": {},
   "outputs": [],
   "source": [
    "# внутренности конверта\n",
    "tags = ['CERTNO','CERTDATE','STATUS','IEC','EXPNAME','BILLID','SDATE','SCC','SVALUE','SVALUEUSD']\n",
    "for i in range(0,len(df2)):\n",
    "    elem = df2.iloc[i].to_list()\n",
    "    ecert = ET.SubElement(envelope2, 'ECERT')\n",
    "    for j in range(0,len(elem)):\n",
    "        item = ET.SubElement(ecert, tags[j])\n",
    "        item.text = elem[j]"
   ]
  },
  {
   "cell_type": "code",
   "execution_count": null,
   "metadata": {},
   "outputs": [],
   "source": [
    "# создание XML файла\n",
    "tree2 = ET.ElementTree(root2)\n",
    "tree2.write(\"output_xml_v2.xml\")"
   ]
  }
 ],
 "metadata": {
  "kernelspec": {
   "display_name": "Python 3",
   "language": "python",
   "name": "python3"
  },
  "language_info": {
   "codemirror_mode": {
    "name": "ipython",
    "version": 3
   },
   "file_extension": ".py",
   "mimetype": "text/x-python",
   "name": "python",
   "nbconvert_exporter": "python",
   "pygments_lexer": "ipython3",
   "version": "3.8.5"
  }
 },
 "nbformat": 4,
 "nbformat_minor": 4
}
